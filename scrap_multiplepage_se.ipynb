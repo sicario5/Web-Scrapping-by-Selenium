{
 "cells": [
  {
   "cell_type": "code",
   "execution_count": 1,
   "metadata": {},
   "outputs": [],
   "source": [
    "from selenium import webdriver\n",
    "from selenium.webdriver.chrome.options import Options\n",
    "from selenium.webdriver.chrome.service import Service\n",
    "from selenium.webdriver.common.by import By\n",
    "from selenium.webdriver.support.ui import WebDriverWait\n",
    "from selenium.webdriver.support import expected_conditions as EC\n",
    "\n",
    "import pandas as pd\n",
    "import time"
   ]
  },
  {
   "cell_type": "code",
   "execution_count": 2,
   "metadata": {},
   "outputs": [],
   "source": [
    "web=\"https://www.audible.in/adblbestsellers?ref_pageloadid=not_applicable&ref=a_hp_t1_navTop_pl1cg0c1r0&pf_rd_p=4e150d5e-ca98-47fb-823b-f6fcb252aced&pf_rd_r=V3GSM8N138ESPPKHA9T3&pageLoadId=iWtlHEiy9M2cdV2c&creativeId=2e6787a2-0cd0-4a6e-afe0-05766cd505e5\"\n",
    "path=Service(\"C:\\\\Users\\\\Sicario\\\\Downloads\\\\chromedriver-win64\\\\chromedriver-win64\\\\chromedriver.exe\")\n",
    "driver=webdriver.Chrome(service=path)\n",
    "driver.get(web)\n",
    "driver.maximize_window()\n",
    "\n"
   ]
  },
  {
   "cell_type": "markdown",
   "metadata": {},
   "source": [
    "pagination"
   ]
  },
  {
   "cell_type": "code",
   "execution_count": 3,
   "metadata": {},
   "outputs": [],
   "source": [
    "pagination=driver.find_element(By.XPATH,\"//ul[contains(@class,'pagingElements')]\")\n",
    "pages=pagination.find_elements(By.TAG_NAME,'li')\n",
    "last_page=int(pages[-2].text)\n",
    "\n",
    "\n",
    "\n"
   ]
  },
  {
   "cell_type": "code",
   "execution_count": 4,
   "metadata": {},
   "outputs": [],
   "source": [
    "current_page=1\n",
    "\n",
    "book_title=[]\n",
    "book_author=[]\n",
    "book_length=[]\n",
    "\n",
    "\n",
    "while current_page<=last_page:\n",
    "    #time.sleep(2) #implicit waits\n",
    "    #container=driver.find_element(By.CLASS_NAME,'adbl-impression-container ') #implicit wait\n",
    "    #products = container.find_elements(By.XPATH,'.//li[contains(@class, \"productListItem\")]') #implicit wait\n",
    "    container=WebDriverWait(driver,5).until(EC.presence_of_element_located((By.CLASS_NAME,'adbl-impression-container '))) #explicit ways\n",
    "    products = WebDriverWait(container,5).until(EC.presence_of_all_elements_located((By.XPATH,'.//li[contains(@class, \"productListItem\")]'))) #explicit ways\n",
    "\n",
    "    \n",
    "\n",
    "    for product in products:\n",
    "        book_title.append(product.find_element(By.XPATH,'.//h3[contains(@class,\"bc-heading\")]').text)\n",
    "        book_author.append(product.find_element(By.XPATH,\".//li[contains(@class,'authorLabel')]\").text)\n",
    "        book_length.append(product.find_element(By.XPATH,\".//li[contains(@class,'runtimeLabel')]\").text)\n",
    "\n",
    "    current_page=current_page+1\n",
    "\n",
    "    try:\n",
    "        next_page=driver.find_element(By.XPATH,\"//span[contains(@class,'nextButton')]\")\n",
    "        next_page.click()\n",
    "    except:\n",
    "       pass\n",
    "\n"
   ]
  },
  {
   "cell_type": "code",
   "execution_count": 5,
   "metadata": {},
   "outputs": [],
   "source": [
    "driver.quit()"
   ]
  },
  {
   "cell_type": "code",
   "execution_count": 6,
   "metadata": {},
   "outputs": [],
   "source": [
    "book_df=pd.DataFrame({'title':book_title,'author':book_author,'length':book_length})\n",
    "book_df.to_csv('audible_bestseller_books.csv',index=False)"
   ]
  }
 ],
 "metadata": {
  "kernelspec": {
   "display_name": "Python 3",
   "language": "python",
   "name": "python3"
  },
  "language_info": {
   "codemirror_mode": {
    "name": "ipython",
    "version": 3
   },
   "file_extension": ".py",
   "mimetype": "text/x-python",
   "name": "python",
   "nbconvert_exporter": "python",
   "pygments_lexer": "ipython3",
   "version": "3.12.4"
  }
 },
 "nbformat": 4,
 "nbformat_minor": 2
}
