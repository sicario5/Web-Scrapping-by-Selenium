{
 "cells": [
  {
   "cell_type": "code",
   "execution_count": 10,
   "metadata": {},
   "outputs": [],
   "source": [
    "from selenium import webdriver\n",
    "from selenium.webdriver.chrome.service import Service\n",
    "from selenium.webdriver.common.by import By\n",
    "from selenium.webdriver.support.ui import Select\n",
    "import pandas as pd\n",
    "import time"
   ]
  },
  {
   "cell_type": "code",
   "execution_count": 11,
   "metadata": {},
   "outputs": [],
   "source": [
    "website='https://www.adamchoi.co.uk/overs/detailed'\n",
    "path=Service(\"C:\\\\Users\\\\Sicario\\\\Downloads\\\\chromedriver-win64\\\\chromedriver-win64\\\\chromedriver.exe\")\n",
    "driver=webdriver.Chrome(service=path)\n",
    "\n",
    "driver.get(website)"
   ]
  },
  {
   "cell_type": "code",
   "execution_count": null,
   "metadata": {},
   "outputs": [],
   "source": []
  },
  {
   "cell_type": "code",
   "execution_count": 12,
   "metadata": {},
   "outputs": [],
   "source": [
    "all_matches_button=driver.find_element(By.XPATH,'//label[@analytics-event=\"All matches\"]')\n",
    "all_matches_button.click()"
   ]
  },
  {
   "cell_type": "code",
   "execution_count": 23,
   "metadata": {},
   "outputs": [
    {
     "ename": "NoSuchElementException",
     "evalue": "Message: Could not locate element with visible text: England\nSpain\nGermany\nItaly\nFrance\nScotland\nNetherlands\nPortugal\nTurkey\nGreece\nBelgium\nBrazil\nAustria\nRussia\nArgentina\nDenmark\nPoland\nUSA\nNorway\nSweden\nFinland\nSwitzerland\nAustralia\nJapan\nChina\nMexico\nUkraine\nCzechia\nSaudi Arabia\nColombia\nPeru\nEcuador\nSouth Korea; For documentation on this error, please visit: https://www.selenium.dev/documentation/webdriver/troubleshooting/errors#no-such-element-exception\n",
     "output_type": "error",
     "traceback": [
      "\u001b[1;31m---------------------------------------------------------------------------\u001b[0m",
      "\u001b[1;31mNoSuchElementException\u001b[0m                    Traceback (most recent call last)",
      "Cell \u001b[1;32mIn[23], line 4\u001b[0m\n\u001b[0;32m      2\u001b[0m county\u001b[38;5;241m=\u001b[39mcount\u001b[38;5;241m.\u001b[39mtext\n\u001b[0;32m      3\u001b[0m dropdown\u001b[38;5;241m=\u001b[39mSelect(driver\u001b[38;5;241m.\u001b[39mfind_element(By\u001b[38;5;241m.\u001b[39mID,\u001b[38;5;124m'\u001b[39m\u001b[38;5;124mcountry\u001b[39m\u001b[38;5;124m'\u001b[39m))\n\u001b[1;32m----> 4\u001b[0m \u001b[43mdropdown\u001b[49m\u001b[38;5;241;43m.\u001b[39;49m\u001b[43mselect_by_visible_text\u001b[49m\u001b[43m(\u001b[49m\u001b[38;5;124;43mf\u001b[39;49m\u001b[38;5;124;43m'\u001b[39;49m\u001b[38;5;132;43;01m{\u001b[39;49;00m\u001b[43mcounty\u001b[49m\u001b[38;5;132;43;01m}\u001b[39;49;00m\u001b[38;5;124;43m'\u001b[39;49m\u001b[43m)\u001b[49m\n\u001b[0;32m      5\u001b[0m time\u001b[38;5;241m.\u001b[39msleep(\u001b[38;5;241m4\u001b[39m)\n\u001b[0;32m      6\u001b[0m matches\u001b[38;5;241m=\u001b[39mdriver\u001b[38;5;241m.\u001b[39mfind_elements(By\u001b[38;5;241m.\u001b[39mTAG_NAME,\u001b[38;5;124m'\u001b[39m\u001b[38;5;124mtr\u001b[39m\u001b[38;5;124m'\u001b[39m)\n",
      "File \u001b[1;32m~\\AppData\\Local\\Packages\\PythonSoftwareFoundation.Python.3.12_qbz5n2kfra8p0\\LocalCache\\local-packages\\Python312\\site-packages\\selenium\\webdriver\\support\\select.py:137\u001b[0m, in \u001b[0;36mSelect.select_by_visible_text\u001b[1;34m(self, text)\u001b[0m\n\u001b[0;32m    134\u001b[0m             matched \u001b[38;5;241m=\u001b[39m \u001b[38;5;28;01mTrue\u001b[39;00m\n\u001b[0;32m    136\u001b[0m \u001b[38;5;28;01mif\u001b[39;00m \u001b[38;5;129;01mnot\u001b[39;00m matched:\n\u001b[1;32m--> 137\u001b[0m     \u001b[38;5;28;01mraise\u001b[39;00m NoSuchElementException(\u001b[38;5;124mf\u001b[39m\u001b[38;5;124m\"\u001b[39m\u001b[38;5;124mCould not locate element with visible text: \u001b[39m\u001b[38;5;132;01m{\u001b[39;00mtext\u001b[38;5;132;01m}\u001b[39;00m\u001b[38;5;124m\"\u001b[39m)\n",
      "\u001b[1;31mNoSuchElementException\u001b[0m: Message: Could not locate element with visible text: England\nSpain\nGermany\nItaly\nFrance\nScotland\nNetherlands\nPortugal\nTurkey\nGreece\nBelgium\nBrazil\nAustria\nRussia\nArgentina\nDenmark\nPoland\nUSA\nNorway\nSweden\nFinland\nSwitzerland\nAustralia\nJapan\nChina\nMexico\nUkraine\nCzechia\nSaudi Arabia\nColombia\nPeru\nEcuador\nSouth Korea; For documentation on this error, please visit: https://www.selenium.dev/documentation/webdriver/troubleshooting/errors#no-such-element-exception\n"
     ]
    }
   ],
   "source": [
    "\n",
    "for count in driver.find_elements(By.ID,'country'):\n",
    "    county=count.text\n",
    "    dropdown=Select(driver.find_element(By.ID,'country'))\n",
    "    dropdown.select_by_visible_text(f'{county}')\n",
    "    time.sleep(4)\n",
    "    matches=driver.find_elements(By.TAG_NAME,'tr')\n",
    "    #for match in matches:\n",
    "    #    print(match.text)\n",
    "\n",
    "    date=[]\n",
    "    home_team=[]\n",
    "    score=[]\n",
    "    away_team=[]\n",
    "    for match in matches:\n",
    "        dates=match.find_element(By.XPATH,'//tr/td[1]').text\n",
    "        date.append(dates)\n",
    "        #print(dates) #check the values appear only\n",
    "        home_team.append(match.find_element(By.XPATH,'./td[2]').text)\n",
    "        score.append(match.find_element(By.XPATH,'./td[3]').text)\n",
    "        away_team.append(match.find_element(By.XPATH,'./td[4]').text)\n",
    "    \n",
    "    df=pd.DataFrame({'Date':date,'Home_Team':home_team,'Score':score,'Away_Team':away_team})\n",
    "    df.to_csv(f'{county}All__scrap_data_se.csv',index=False)"
   ]
  },
  {
   "cell_type": "code",
   "execution_count": null,
   "metadata": {},
   "outputs": [],
   "source": []
  },
  {
   "cell_type": "code",
   "execution_count": null,
   "metadata": {},
   "outputs": [],
   "source": [
    "\n",
    "    "
   ]
  },
  {
   "cell_type": "code",
   "execution_count": null,
   "metadata": {},
   "outputs": [],
   "source": [
    "driver.quit()"
   ]
  },
  {
   "cell_type": "code",
   "execution_count": null,
   "metadata": {},
   "outputs": [],
   "source": [
    "\n"
   ]
  },
  {
   "cell_type": "code",
   "execution_count": null,
   "metadata": {},
   "outputs": [],
   "source": []
  }
 ],
 "metadata": {
  "kernelspec": {
   "display_name": "Python 3",
   "language": "python",
   "name": "python3"
  },
  "language_info": {
   "codemirror_mode": {
    "name": "ipython",
    "version": 3
   },
   "file_extension": ".py",
   "mimetype": "text/x-python",
   "name": "python",
   "nbconvert_exporter": "python",
   "pygments_lexer": "ipython3",
   "version": "3.12.3"
  }
 },
 "nbformat": 4,
 "nbformat_minor": 2
}
