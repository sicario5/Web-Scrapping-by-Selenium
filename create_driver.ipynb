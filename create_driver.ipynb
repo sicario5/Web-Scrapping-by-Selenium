{
 "cells": [
  {
   "cell_type": "code",
   "execution_count": 28,
   "metadata": {},
   "outputs": [],
   "source": [
    "from selenium import webdriver\n",
    "from selenium.webdriver.chrome.service import Service\n",
    "from selenium.webdriver.common.by import By\n",
    "import pandas as pd\n",
    "import time"
   ]
  },
  {
   "cell_type": "code",
   "execution_count": 22,
   "metadata": {},
   "outputs": [],
   "source": [
    "website='https://www.adamchoi.co.uk/overs/detailed'\n",
    "path=Service(\"C:\\\\Users\\\\Sicario\\\\Downloads\\\\chromedriver-win64\\\\chromedriver-win64\\\\chromedriver.exe\")\n",
    "driver=webdriver.Chrome(service=path)\n",
    "\n",
    "driver.get(website)\n"
   ]
  },
  {
   "cell_type": "markdown",
   "metadata": {},
   "source": [
    "using Xpath to click on any button "
   ]
  },
  {
   "cell_type": "code",
   "execution_count": 23,
   "metadata": {},
   "outputs": [],
   "source": [
    "all_matches_button=driver.find_element(By.XPATH,'//label[@analytics-event=\"All matches\"]')\n",
    "all_matches_button.click()"
   ]
  },
  {
   "cell_type": "markdown",
   "metadata": {},
   "source": [
    "dropdown "
   ]
  },
  {
   "cell_type": "code",
   "execution_count": null,
   "metadata": {},
   "outputs": [],
   "source": [
    "dropdown=Select(driver.find_element(By.ID,'country'))\n",
    "dropdown.select_by_visible_text('Spain')\n",
    "time.sleep(4)"
   ]
  },
  {
   "cell_type": "markdown",
   "metadata": {},
   "source": [
    "collecting all matches data in there specific list in text format"
   ]
  },
  {
   "cell_type": "code",
   "execution_count": 24,
   "metadata": {},
   "outputs": [],
   "source": [
    "matches=driver.find_elements(By.TAG_NAME,'tr')\n",
    "#for match in matches:\n",
    "#    print(match.text)\n",
    "\n",
    "date=[]\n",
    "home_team=[]\n",
    "score=[]\n",
    "away_team=[]\n",
    "for match in matches:\n",
    "    dates=match.find_element(By.XPATH,'//tr/td[1]').text\n",
    "    date.append(dates)\n",
    "    #print(dates) #check the values appear only\n",
    "    home_team.append(match.find_element(By.XPATH,'./td[2]').text)\n",
    "    score.append(match.find_element(By.XPATH,'./td[3]').text)\n",
    "    away_team.append(match.find_element(By.XPATH,'./td[4]').text)\n",
    "    "
   ]
  },
  {
   "cell_type": "code",
   "execution_count": 25,
   "metadata": {},
   "outputs": [],
   "source": [
    "driver.quit()"
   ]
  },
  {
   "cell_type": "code",
   "execution_count": 26,
   "metadata": {},
   "outputs": [],
   "source": [
    "#print(dir(driver))"
   ]
  },
  {
   "cell_type": "code",
   "execution_count": 27,
   "metadata": {},
   "outputs": [],
   "source": [
    "\n",
    "df=pd.DataFrame({'Date':date,'Home_Team':home_team,'Score':score,'Away_Team':away_team})\n",
    "df.to_csv('football_scrap_data_se.csv',index=False)"
   ]
  }
 ],
 "metadata": {
  "kernelspec": {
   "display_name": "Python 3",
   "language": "python",
   "name": "python3"
  },
  "language_info": {
   "codemirror_mode": {
    "name": "ipython",
    "version": 3
   },
   "file_extension": ".py",
   "mimetype": "text/x-python",
   "name": "python",
   "nbconvert_exporter": "python",
   "pygments_lexer": "ipython3",
   "version": "3.12.3"
  }
 },
 "nbformat": 4,
 "nbformat_minor": 2
}
