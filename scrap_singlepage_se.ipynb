{
 "cells": [
  {
   "cell_type": "code",
   "execution_count": 19,
   "metadata": {},
   "outputs": [],
   "source": [
    "from selenium import webdriver\n",
    "from selenium.webdriver.chrome.service import Service\n",
    "from selenium.webdriver.chrome.options import Options\n",
    "from selenium.webdriver.common.by import By\n",
    "import pandas as pd"
   ]
  },
  {
   "cell_type": "markdown",
   "metadata": {},
   "source": [
    "using headless so that we can't open browser again"
   ]
  },
  {
   "cell_type": "code",
   "execution_count": 14,
   "metadata": {},
   "outputs": [],
   "source": [
    "options=Options()\n",
    "options.add_argument('--headless=new')\n",
    "options.add_argument('-–window-size=1920,1080')"
   ]
  },
  {
   "cell_type": "code",
   "execution_count": 17,
   "metadata": {},
   "outputs": [],
   "source": [
    "web=\"https://www.audible.com/search\"\n",
    "path=Service(\"C:\\\\Users\\\\Sicario\\\\Downloads\\\\chromedriver-win64\\\\chromedriver-win64\\\\chromedriver.exe\")\n",
    "driver=webdriver.Chrome(service=path,options=options)\n",
    "driver.get(web)\n",
    "#driver.maximize_window()\n",
    "\n"
   ]
  },
  {
   "cell_type": "code",
   "execution_count": 18,
   "metadata": {},
   "outputs": [
    {
     "ename": "NoSuchElementException",
     "evalue": "Message: no such element: Unable to locate element: {\"method\":\"css selector\",\"selector\":\".adbl-impression-container \"}\n  (Session info: chrome=125.0.6422.77); For documentation on this error, please visit: https://www.selenium.dev/documentation/webdriver/troubleshooting/errors#no-such-element-exception\nStacktrace:\n\tGetHandleVerifier [0x00007FF7B7FD1F52+60322]\n\t(No symbol) [0x00007FF7B7F4CEC9]\n\t(No symbol) [0x00007FF7B7E07EBA]\n\t(No symbol) [0x00007FF7B7E57676]\n\t(No symbol) [0x00007FF7B7E5773C]\n\t(No symbol) [0x00007FF7B7E9E967]\n\t(No symbol) [0x00007FF7B7E7C25F]\n\t(No symbol) [0x00007FF7B7E9BC80]\n\t(No symbol) [0x00007FF7B7E7BFC3]\n\t(No symbol) [0x00007FF7B7E49617]\n\t(No symbol) [0x00007FF7B7E4A211]\n\tGetHandleVerifier [0x00007FF7B82E949D+3301613]\n\tGetHandleVerifier [0x00007FF7B83336C3+3605267]\n\tGetHandleVerifier [0x00007FF7B8329440+3563664]\n\tGetHandleVerifier [0x00007FF7B8084326+790390]\n\t(No symbol) [0x00007FF7B7F5750F]\n\t(No symbol) [0x00007FF7B7F53404]\n\t(No symbol) [0x00007FF7B7F53592]\n\t(No symbol) [0x00007FF7B7F42F9F]\n\tBaseThreadInitThunk [0x00007FFFBDCA257D+29]\n\tRtlUserThreadStart [0x00007FFFBEB4AA48+40]\n",
     "output_type": "error",
     "traceback": [
      "\u001b[1;31m---------------------------------------------------------------------------\u001b[0m",
      "\u001b[1;31mNoSuchElementException\u001b[0m                    Traceback (most recent call last)",
      "Cell \u001b[1;32mIn[18], line 1\u001b[0m\n\u001b[1;32m----> 1\u001b[0m container\u001b[38;5;241m=\u001b[39m\u001b[43mdriver\u001b[49m\u001b[38;5;241;43m.\u001b[39;49m\u001b[43mfind_element\u001b[49m\u001b[43m(\u001b[49m\u001b[43mBy\u001b[49m\u001b[38;5;241;43m.\u001b[39;49m\u001b[43mCLASS_NAME\u001b[49m\u001b[43m,\u001b[49m\u001b[38;5;124;43m'\u001b[39;49m\u001b[38;5;124;43madbl-impression-container \u001b[39;49m\u001b[38;5;124;43m'\u001b[39;49m\u001b[43m)\u001b[49m\n\u001b[0;32m      2\u001b[0m products \u001b[38;5;241m=\u001b[39m container\u001b[38;5;241m.\u001b[39mfind_elements(By\u001b[38;5;241m.\u001b[39mXPATH,\u001b[38;5;124m'\u001b[39m\u001b[38;5;124m.//li[contains(@class, \u001b[39m\u001b[38;5;124m\"\u001b[39m\u001b[38;5;124mproductListItem\u001b[39m\u001b[38;5;124m\"\u001b[39m\u001b[38;5;124m)]\u001b[39m\u001b[38;5;124m'\u001b[39m)\n",
      "File \u001b[1;32m~\\AppData\\Local\\Packages\\PythonSoftwareFoundation.Python.3.12_qbz5n2kfra8p0\\LocalCache\\local-packages\\Python312\\site-packages\\selenium\\webdriver\\remote\\webdriver.py:741\u001b[0m, in \u001b[0;36mWebDriver.find_element\u001b[1;34m(self, by, value)\u001b[0m\n\u001b[0;32m    738\u001b[0m     by \u001b[38;5;241m=\u001b[39m By\u001b[38;5;241m.\u001b[39mCSS_SELECTOR\n\u001b[0;32m    739\u001b[0m     value \u001b[38;5;241m=\u001b[39m \u001b[38;5;124mf\u001b[39m\u001b[38;5;124m'\u001b[39m\u001b[38;5;124m[name=\u001b[39m\u001b[38;5;124m\"\u001b[39m\u001b[38;5;132;01m{\u001b[39;00mvalue\u001b[38;5;132;01m}\u001b[39;00m\u001b[38;5;124m\"\u001b[39m\u001b[38;5;124m]\u001b[39m\u001b[38;5;124m'\u001b[39m\n\u001b[1;32m--> 741\u001b[0m \u001b[38;5;28;01mreturn\u001b[39;00m \u001b[38;5;28;43mself\u001b[39;49m\u001b[38;5;241;43m.\u001b[39;49m\u001b[43mexecute\u001b[49m\u001b[43m(\u001b[49m\u001b[43mCommand\u001b[49m\u001b[38;5;241;43m.\u001b[39;49m\u001b[43mFIND_ELEMENT\u001b[49m\u001b[43m,\u001b[49m\u001b[43m \u001b[49m\u001b[43m{\u001b[49m\u001b[38;5;124;43m\"\u001b[39;49m\u001b[38;5;124;43musing\u001b[39;49m\u001b[38;5;124;43m\"\u001b[39;49m\u001b[43m:\u001b[49m\u001b[43m \u001b[49m\u001b[43mby\u001b[49m\u001b[43m,\u001b[49m\u001b[43m \u001b[49m\u001b[38;5;124;43m\"\u001b[39;49m\u001b[38;5;124;43mvalue\u001b[39;49m\u001b[38;5;124;43m\"\u001b[39;49m\u001b[43m:\u001b[49m\u001b[43m \u001b[49m\u001b[43mvalue\u001b[49m\u001b[43m}\u001b[49m\u001b[43m)\u001b[49m[\u001b[38;5;124m\"\u001b[39m\u001b[38;5;124mvalue\u001b[39m\u001b[38;5;124m\"\u001b[39m]\n",
      "File \u001b[1;32m~\\AppData\\Local\\Packages\\PythonSoftwareFoundation.Python.3.12_qbz5n2kfra8p0\\LocalCache\\local-packages\\Python312\\site-packages\\selenium\\webdriver\\remote\\webdriver.py:347\u001b[0m, in \u001b[0;36mWebDriver.execute\u001b[1;34m(self, driver_command, params)\u001b[0m\n\u001b[0;32m    345\u001b[0m response \u001b[38;5;241m=\u001b[39m \u001b[38;5;28mself\u001b[39m\u001b[38;5;241m.\u001b[39mcommand_executor\u001b[38;5;241m.\u001b[39mexecute(driver_command, params)\n\u001b[0;32m    346\u001b[0m \u001b[38;5;28;01mif\u001b[39;00m response:\n\u001b[1;32m--> 347\u001b[0m     \u001b[38;5;28;43mself\u001b[39;49m\u001b[38;5;241;43m.\u001b[39;49m\u001b[43merror_handler\u001b[49m\u001b[38;5;241;43m.\u001b[39;49m\u001b[43mcheck_response\u001b[49m\u001b[43m(\u001b[49m\u001b[43mresponse\u001b[49m\u001b[43m)\u001b[49m\n\u001b[0;32m    348\u001b[0m     response[\u001b[38;5;124m\"\u001b[39m\u001b[38;5;124mvalue\u001b[39m\u001b[38;5;124m\"\u001b[39m] \u001b[38;5;241m=\u001b[39m \u001b[38;5;28mself\u001b[39m\u001b[38;5;241m.\u001b[39m_unwrap_value(response\u001b[38;5;241m.\u001b[39mget(\u001b[38;5;124m\"\u001b[39m\u001b[38;5;124mvalue\u001b[39m\u001b[38;5;124m\"\u001b[39m, \u001b[38;5;28;01mNone\u001b[39;00m))\n\u001b[0;32m    349\u001b[0m     \u001b[38;5;28;01mreturn\u001b[39;00m response\n",
      "File \u001b[1;32m~\\AppData\\Local\\Packages\\PythonSoftwareFoundation.Python.3.12_qbz5n2kfra8p0\\LocalCache\\local-packages\\Python312\\site-packages\\selenium\\webdriver\\remote\\errorhandler.py:229\u001b[0m, in \u001b[0;36mErrorHandler.check_response\u001b[1;34m(self, response)\u001b[0m\n\u001b[0;32m    227\u001b[0m         alert_text \u001b[38;5;241m=\u001b[39m value[\u001b[38;5;124m\"\u001b[39m\u001b[38;5;124malert\u001b[39m\u001b[38;5;124m\"\u001b[39m]\u001b[38;5;241m.\u001b[39mget(\u001b[38;5;124m\"\u001b[39m\u001b[38;5;124mtext\u001b[39m\u001b[38;5;124m\"\u001b[39m)\n\u001b[0;32m    228\u001b[0m     \u001b[38;5;28;01mraise\u001b[39;00m exception_class(message, screen, stacktrace, alert_text)  \u001b[38;5;66;03m# type: ignore[call-arg]  # mypy is not smart enough here\u001b[39;00m\n\u001b[1;32m--> 229\u001b[0m \u001b[38;5;28;01mraise\u001b[39;00m exception_class(message, screen, stacktrace)\n",
      "\u001b[1;31mNoSuchElementException\u001b[0m: Message: no such element: Unable to locate element: {\"method\":\"css selector\",\"selector\":\".adbl-impression-container \"}\n  (Session info: chrome=125.0.6422.77); For documentation on this error, please visit: https://www.selenium.dev/documentation/webdriver/troubleshooting/errors#no-such-element-exception\nStacktrace:\n\tGetHandleVerifier [0x00007FF7B7FD1F52+60322]\n\t(No symbol) [0x00007FF7B7F4CEC9]\n\t(No symbol) [0x00007FF7B7E07EBA]\n\t(No symbol) [0x00007FF7B7E57676]\n\t(No symbol) [0x00007FF7B7E5773C]\n\t(No symbol) [0x00007FF7B7E9E967]\n\t(No symbol) [0x00007FF7B7E7C25F]\n\t(No symbol) [0x00007FF7B7E9BC80]\n\t(No symbol) [0x00007FF7B7E7BFC3]\n\t(No symbol) [0x00007FF7B7E49617]\n\t(No symbol) [0x00007FF7B7E4A211]\n\tGetHandleVerifier [0x00007FF7B82E949D+3301613]\n\tGetHandleVerifier [0x00007FF7B83336C3+3605267]\n\tGetHandleVerifier [0x00007FF7B8329440+3563664]\n\tGetHandleVerifier [0x00007FF7B8084326+790390]\n\t(No symbol) [0x00007FF7B7F5750F]\n\t(No symbol) [0x00007FF7B7F53404]\n\t(No symbol) [0x00007FF7B7F53592]\n\t(No symbol) [0x00007FF7B7F42F9F]\n\tBaseThreadInitThunk [0x00007FFFBDCA257D+29]\n\tRtlUserThreadStart [0x00007FFFBEB4AA48+40]\n"
     ]
    }
   ],
   "source": [
    "container=driver.find_element(By.CLASS_NAME,'adbl-impression-container ')\n",
    "products = container.find_elements(By.XPATH,'.//li[contains(@class, \"productListItem\")]')"
   ]
  },
  {
   "cell_type": "code",
   "execution_count": null,
   "metadata": {},
   "outputs": [
    {
     "name": "stdout",
     "output_type": "stream",
     "text": [
      "Enchanting Exposition\n",
      "The Knight\n",
      "Defiance of the Fall 13\n",
      "He Who Fights with Monsters 11: A LitRPG Adventure\n",
      "Iron Flame (Part 2 of 2) (Dramatized Adaptation)\n",
      "Bonded in Death\n",
      "The Legend of Randidly Ghosthound 7\n",
      "The Diva Goes Overboard\n",
      "Throne World\n",
      "A Leaner Meaner Midlife\n",
      "Lord of the Dragon Riders\n",
      "Dungeon Diving 201\n",
      "The Fall of Cadia\n",
      "Eyes Tight Shut\n",
      "An Assassination on the Agenda\n",
      "Mandate of Heaven\n",
      "See No Evil\n",
      "Recon\n",
      "How to Tell the Truth\n",
      "Joyful Recollections of Trauma\n"
     ]
    }
   ],
   "source": [
    "book_title=[]\n",
    "book_author=[]\n",
    "book_length=[]\n",
    "\n",
    "for product in products:\n",
    "    title=product.find_element(By.XPATH,'.//h3[contains(@class,\"bc-heading\")]').text\n",
    "    print(title)\n",
    "    book_title.append(title)\n",
    "    book_author.append(product.find_element(By.XPATH,\".//li[contains(@class,'authorLabel')]\").text)\n",
    "    book_length.append(product.find_element(By.XPATH,\".//li[contains(@class,'runtimeLabel')]\").text)"
   ]
  },
  {
   "cell_type": "code",
   "execution_count": null,
   "metadata": {},
   "outputs": [],
   "source": [
    "driver.quit()"
   ]
  },
  {
   "cell_type": "code",
   "execution_count": null,
   "metadata": {},
   "outputs": [],
   "source": [
    "book_df=pd.DataFrame({'title':book_title,'author':book_author,'length':book_length})\n",
    "book_df.to_csv('audible_books.csv',index=False)"
   ]
  }
 ],
 "metadata": {
  "kernelspec": {
   "display_name": "Python 3",
   "language": "python",
   "name": "python3"
  },
  "language_info": {
   "codemirror_mode": {
    "name": "ipython",
    "version": 3
   },
   "file_extension": ".py",
   "mimetype": "text/x-python",
   "name": "python",
   "nbconvert_exporter": "python",
   "pygments_lexer": "ipython3",
   "version": "3.12.4"
  }
 },
 "nbformat": 4,
 "nbformat_minor": 2
}
